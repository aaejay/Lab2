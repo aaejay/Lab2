{
  "nbformat": 4,
  "nbformat_minor": 0,
  "metadata": {
    "colab": {
      "provenance": []
    },
    "kernelspec": {
      "name": "python3",
      "display_name": "Python 3"
    },
    "language_info": {
      "name": "python"
    }
  },
  "cells": [
    {
      "cell_type": "code",
      "execution_count": 1,
      "metadata": {
        "colab": {
          "base_uri": "https://localhost:8080/",
          "height": 507
        },
        "id": "bTmDOFqMBQba",
        "outputId": "cbe71a85-3585-4a1e-a879-e69e33fd8431"
      },
      "outputs": [
        {
          "output_type": "display_data",
          "data": {
            "text/plain": [
              "<Figure size 1000x500 with 2 Axes>"
            ],
            "image/png": "[encoded data removed]"
          },
          "metadata": {}
        }
      ],
      "source": [
        "import matplotlib.pyplot as plt\n",
        "import numpy as np\n",
        "\n",
        "a = [12, 15, 14, 13, 16, 18, 19, 15, 14, 20, 17, 14, 15, 40, 45, 50, 62]\n",
        "b = [12, 17, 15, 13, 19, 20, 21, 18, 17, 16, 15, 14, 16, 15]\n",
        "\n",
        "fig, axes = plt.subplots(1, 2, figsize=(10, 5))\n",
        "axes[0].boxplot(a)\n",
        "axes[0].set_title(\"Group A\")\n",
        "axes[0].set_ylabel(\"Values\")\n",
        "\n",
        "axes[1].boxplot(b)\n",
        "axes[1].set_title(\"Group B\")\n",
        "axes[1].set_ylabel(\"Values\")\n",
        "\n",
        "plt.tight_layout()\n",
        "plt.show()\n"
      ]
    },
    {
      "cell_type": "code",
      "source": [
        "from PIL import Image\n",
        "import numpy as np\n",
        "import matplotlib.pyplot as plt\n",
        "\n",
        "img = Image.open('images.jfif')\n",
        "data = np.array(img)\n",
        "\n",
        "fig, axes = plt.subplots(2, 2, figsize=(10, 10))\n",
        "\n",
        "axes[0, 0].imshow(data)\n",
        "axes[0, 0].axis('off')\n",
        "axes[0, 0].set_title('Original Image')\n",
        "\n",
        "data2 = np.rot90(data, 1, (0, 1))\n",
        "axes[0, 1].imshow(data2)\n",
        "axes[0, 1].axis('off')\n",
        "axes[0, 1].set_title('Rotated Image')\n",
        "\n",
        "data3 = np.fliplr(data)\n",
        "axes[1, 0].imshow(data3)\n",
        "axes[1, 0].axis('off')\n",
        "axes[1, 0].set_title('Flipped Image')\n",
        "\n",
        "def grayscale(rgb):\n",
        "    return np.dot(rgb[..., :3], [0.2989, 0.5870, 0.1140])\n",
        "\n",
        "gray_array = grayscale(data)\n",
        "axes[1, 1].imshow(gray_array, cmap='gray')\n",
        "axes[1, 1].axis('off')\n",
        "axes[1, 1].set_title('Grayscale Image')\n",
        "\n",
        "plt.tight_layout()\n",
        "plt.show()\n"
      ],
      "metadata": {
        "id": "KYZe_UbXBnFv"
      },
      "execution_count": null,
      "outputs": []
    },
    {
      "cell_type": "code",
      "source": [
        "import matplotlib.pyplot as plt\n",
        "import numpy as np\n",
        "\n",
        "with open(\"data2.txt\", \"r\") as fin:\n",
        "    data = fin.read()\n",
        "\n",
        "nucleotides = [\"A\", \"T\", \"C\", \"G\"]\n",
        "genome_length = len(data)\n",
        "genome = \"\".join(data)\n",
        "\n",
        "t = np.linspace(0, 4 * np.pi, genome_length)\n",
        "x = np.cos(t)\n",
        "y = np.sin(t)\n",
        "z = np.linspace(0, 5, genome_length)\n",
        "coordinates = np.column_stack((x, y, z))\n",
        "\n",
        "colors = {'A': 'red', 'T': 'blue', 'C': 'green', 'G': 'orange'}\n",
        "fig = plt.figure()\n",
        "ax = fig.add_subplot(projection='3d')\n",
        "\n",
        "for i, nucleotide in enumerate(genome):\n",
        "    ax.scatter(coordinates[i, 0], coordinates[i, 1], coordinates[i, 2],\n",
        "               color=colors[nucleotide], marker='o')\n",
        "\n",
        "ax.set_xlabel(\"X\")\n",
        "ax.set_ylabel(\"Y\")\n",
        "ax.set_zlabel(\"Z\")\n",
        "ax.set_title(\"Genome Visualization\")\n",
        "plt.show()\n"
      ],
      "metadata": {
        "colab": {
          "base_uri": "https://localhost:8080/",
          "height": 211
        },
        "id": "WIaab-RxBfjQ",
        "outputId": "6140f2f7-1cfd-4e71-9786-f9a45f698333"
      },
      "execution_count": null,
      "outputs": [
        {
          "output_type": "error",
          "ename": "FileNotFoundError",
          "evalue": "[Errno 2] No such file or directory: 'data2.txt'",
          "traceback": [
            "\u001b[0;31m---------------------------------------------------------------------------\u001b[0m",
            "\u001b[0;31mFileNotFoundError\u001b[0m                         Traceback (most recent call last)",
            "\u001b[0;32m<ipython-input-2-9e7e0296192a>\u001b[0m in \u001b[0;36m<cell line: 0>\u001b[0;34m()\u001b[0m\n\u001b[1;32m      2\u001b[0m \u001b[0;32mimport\u001b[0m \u001b[0mmatplotlib\u001b[0m\u001b[0;34m.\u001b[0m\u001b[0mpyplot\u001b[0m \u001b[0;32mas\u001b[0m \u001b[0mplt\u001b[0m\u001b[0;34m\u001b[0m\u001b[0;34m\u001b[0m\u001b[0m\n\u001b[1;32m      3\u001b[0m \u001b[0;32mimport\u001b[0m \u001b[0mnumpy\u001b[0m \u001b[0;32mas\u001b[0m \u001b[0mnp\u001b[0m\u001b[0;34m\u001b[0m\u001b[0;34m\u001b[0m\u001b[0m\n\u001b[0;32m----> 4\u001b[0;31m \u001b[0;32mwith\u001b[0m \u001b[0mopen\u001b[0m\u001b[0;34m(\u001b[0m\u001b[0;34m\"data2.txt\"\u001b[0m\u001b[0;34m,\u001b[0m\u001b[0;34m\"r\"\u001b[0m\u001b[0;34m)\u001b[0m \u001b[0;32mas\u001b[0m \u001b[0mfin\u001b[0m\u001b[0;34m:\u001b[0m\u001b[0;34m\u001b[0m\u001b[0;34m\u001b[0m\u001b[0m\n\u001b[0m\u001b[1;32m      5\u001b[0m     \u001b[0mdata\u001b[0m\u001b[0;34m=\u001b[0m\u001b[0mfin\u001b[0m\u001b[0;34m.\u001b[0m\u001b[0mread\u001b[0m\u001b[0;34m(\u001b[0m\u001b[0;34m)\u001b[0m\u001b[0;34m\u001b[0m\u001b[0;34m\u001b[0m\u001b[0m\n\u001b[1;32m      6\u001b[0m \u001b[0;31m#data=\"ATCGTAGCTAGCTACGATCGATCGTAGCTAGCTAGCTGACTGATCGTAGCTAGCTAGCTAGCTGACTGATCGTAGCTAGCTAGCTAGCTGACT\"\u001b[0m\u001b[0;34m\u001b[0m\u001b[0;34m\u001b[0m\u001b[0m\n",
            "\u001b[0;31mFileNotFoundError\u001b[0m: [Errno 2] No such file or directory: 'data2.txt'"
          ]
        }
      ]
    },
    {
      "cell_type": "code",
      "source": [
        "from sklearn.datasets import load_iris\n",
        "import numpy as np\n",
        "import matplotlib.pyplot as plt\n",
        "\n",
        "iris = load_iris()\n",
        "X, Y = np.array(iris.data), np.array(iris.target)\n",
        "\n",
        "num_features = X.shape[1]\n",
        "for i in range(num_features):\n",
        "    feature_data = X[:, i]\n",
        "    print(f\"Feature {i+1}:\")\n",
        "    print(f\"  Mean: {np.mean(feature_data):.2f}\")\n",
        "    print(f\"  Median: {np.median(feature_data):.2f}\")\n",
        "    print(f\"  Standard Deviation: {np.std(feature_data):.2f}\")\n",
        "    print(f\"  Minimum: {np.min(feature_data):.2f}\")\n",
        "    print(f\"  Maximum: {np.max(feature_data):.2f}\")\n",
        "    print(\"-\" * 20)\n",
        "\n",
        "sepal_data = X[:, :2]\n",
        "print(\"Sepal Length and Width Data:\\n\", sepal_data)\n",
        "\n",
        "plt.figure(figsize=(8, 6))\n",
        "plt.scatter(X[:, 0], X[:, 1], c=Y, cmap='viridis')\n",
        "plt.xlabel(\"Sepal Length (cm)\")\n",
        "plt.ylabel(\"Sepal Width (cm)\")\n",
        "plt.title(\"Sepal Length vs Sepal Width\")\n",
        "plt.colorbar(label=\"Species\", ticks=[0, 1, 2])\n",
        "plt.show()\n",
        "\n",
        "plt.figure(figsize=(8, 6))\n",
        "plt.hist(X[:, 0], bins=20, color='skyblue', edgecolor='black')\n",
        "plt.xlabel(\"Sepal Length (cm)\")\n",
        "plt.ylabel(\"Frequency\")\n",
        "plt.title(\"Distribution of Sepal Length\")\n",
        "plt.show()\n",
        "\n",
        "plt.figure(figsize=(8, 6))\n",
        "plt.plot(X[:, 2], X[:, 3], marker='o', linestyle='-', color='coral')\n",
        "plt.xlabel(\"Petal Length (cm)\")\n",
        "plt.ylabel(\"Petal Width (cm)\")\n",
        "plt.title(\"Petal Length vs Petal Width\")\n",
        "plt.grid(True)\n",
        "plt.show()\n"
      ],
      "metadata": {
        "id": "M8qQiAI2Bnh3"
      },
      "execution_count": null,
      "outputs": []
    },
    {
      "cell_type": "code",
      "source": [],
      "metadata": {
        "id": "oK0YYEH_Bn3_"
      },
      "execution_count": null,
      "outputs": []
    }
  ]
}